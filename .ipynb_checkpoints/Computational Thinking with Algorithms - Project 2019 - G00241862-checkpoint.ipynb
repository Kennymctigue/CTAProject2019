{
 "cells": [
  {
   "cell_type": "markdown",
   "metadata": {
    "collapsed": true
   },
   "source": [
    "# Sorting Algorithms\n",
    "### Computational Thinking with Algorithms - G00241862 - Project 2019\n",
    "\n",
    "## What is a sorting Algorithm?\n",
    "A sorting algorithm is an algorithm that takes elements of a list and arranges them in a certain order.  Sorting is a fundemental aspect of coding as many more advanced algorithms require data to be sorted before they can function.\n",
    "\n",
    "Specifically, sorting algorithms do not alter the elements in a list, it is only the order in which they are listed that changes and also, the order is non decreasing in that each element is no smaller than the previous element.\n",
    "\n",
    "Sorting algorithms should be stable.  This means that if two elements are correctly ordered in the list before the sort, then they must still be in the correct order subsequent to the sort.\n",
    "\n",
    "Deciding what algorithm to choose depends on a number of factors as each one is suited to different types and sizes of data.  If an inappropriate algorithm is chosen for a sorting task it may take a long time slowing down a program of which it forms a part.  Factors that can influence the algorithm chosen include number of items to be sorted, extent towhich the items are already sorted, the level of stability required and how much code the user wants to write.\n",
    "\n",
    "For the purpose of this exercise, we are going to use randomly generated integer arrays of different sizes and each sorting algorithm will put them in numerical order and will be tested for their respective time efficiency in performing the sort.  \n",
    "\n",
    "The sorting algorithms chosen to benchmark are Bubble Sort, Selection Sort, Insertion Sort, Quick Sort and Counting Sort.\n",
    "\n",
    "The first three algorithms are simple comparison-based sorts, Quick Sort is an example of efficient compariso-based sort and , finally, Counting Sort, which is an example of non-comparison sort.\n",
    "\n",
    "https://en.wikipedia.org/wiki/Sorting_algorithm\n",
    "\n",
    "https://medium.com/@george.seif94/a-tour-of-the-top-5-sorting-algorithms-with-python-code-43ea9aa02889\n",
    "\n",
    "https://www.geeksforgeeks.org/sorting-algorithms/\n",
    "\n",
    "\n",
    "\n",
    "\n"
   ]
  },
  {
   "cell_type": "code",
   "execution_count": 86,
   "metadata": {
    "collapsed": true
   },
   "outputs": [],
   "source": [
    "import time # to allow for the timing of each algorithm to be recorded\n",
    "import random # to import random data to sort\n",
    "import numpy as np #to import numpy\n",
    "from random import randint # to import random integers to be imported\n",
    "import matplotlib.pyplot as plt # to allow for the visual plotting of the results\n",
    "import seaborn as sns\n",
    "import pandas as pd"
   ]
  },
  {
   "cell_type": "markdown",
   "metadata": {},
   "source": [
    "## Bubble Sort\n",
    "Bubble Sort is very simple in process.  It work by starting at the beginning of the list and comparing the first two elements.  If the second element is smaller than the first, it swaps them so the smaller element is first.  It then continues to compare the second and third.  If the third element is smaller it swaps, if it is larger it does not swap.  This continues until the end of the list is reached.  At this point, the algorithm returns to the begining of the list and repeats the process.  It keeps on repeating until it goes through the list without having to make any swaps.\n",
    "\n",
    "Bubble Sort has best case efficiency of n, worst case efficiency of n squared and average case of n squared, a space complexity of 1 and is a Stable algorithm.\n",
    "\n",
    "https://www.geeksforgeeks.org/bubble-sort/\n",
    "\n",
    "https://interactivepython.org/runestone/static/pythonds/SortSearch/TheBubbleSort.html\n",
    "\n",
    "https://www.youtube.com/watch?v=YHm_4bVOe1s\n",
    "\n",
    "https://www.pythoncentral.io/bubble-sort-implementation-guide/\n",
    "\n",
    "\n"
   ]
  },
  {
   "cell_type": "code",
   "execution_count": 87,
   "metadata": {
    "collapsed": true
   },
   "outputs": [],
   "source": [
    "#Define the bubble sorting algorithm\n",
    "bstart = time.time() # set the start time\n",
    "n = 10 # the function is to run 10 times\n",
    "def bubsort(x):\n",
    "    for i in range(len(x)-1,0,-1):  #Setting the range for comparison \n",
    "        for j in range(i):  #Comparing within set range\n",
    "            if x[j]>x[j+1]:  # compare two adjacent elements\n",
    "                temp = x[j] \n",
    "                x[j] = x[j+1] # swap the elements\n",
    "                x[j+1] = temp # put the smaller element in new position and loop around again\n",
    "for _ in range(n):\n",
    "    array = np.random.randint(100, size=100)\n",
    "    bubsort (array)\n",
    "bend = time.time() # end the time\n",
    "bstart1 = time.time()\n",
    "for _ in range(n):\n",
    "    array1 = np.random.randint(100, size=500) \n",
    "    bubsort (array1)\n",
    "bend1 = time.time()\n",
    "bstart2 = time.time()\n",
    "for _ in range(n):\n",
    "    array2 = np.random.randint(100, size=1000)\n",
    "    bubsort (array2)\n",
    "bend2 = time.time()\n",
    "bstart3 = time.time()\n",
    "for _ in range(n):\n",
    "    array3 = np.random.randint(100, size=2000)\n",
    "    bubsort (array3)\n",
    "bend3 = time.time()\n",
    "bstart4 = time.time()\n",
    "for _ in range(n):\n",
    "    array4 = np.random.randint(100, size=5000)\n",
    "    bubsort (array4)\n",
    "bend4 = time.time()\n",
    "bstart5 = time.time()\n",
    "for _ in range(n):\n",
    "    array5 = np.random.randint(100, size=10000)\n",
    "    bubsort (array5)\n",
    "bend5 = time.time()\n"
   ]
  },
  {
   "cell_type": "markdown",
   "metadata": {},
   "source": [
    "## Selection Sort\n",
    "With Selection Sort, the Algorithm iterates through the list until it has established the smallest element.  Once this is established, it moves that element into the first position in the list.  This becomes the sorted part of the list.  It thhen iterates through the list again to find the smallest value in the unsorted part of the list.  Once this element is established it moves that element to the second position in the list.  The sorted part of the list is now the first two elements.  The algorithm continues to loop through the process until the sorted part of the list is the entire list.\n",
    "\n",
    "Selection Sort has best case efficiency of n squared, worst case efficiency of n squared and average case of n squared, a space complexity of 1 and is not a Stable algorithm.\n",
    "\n",
    "https://interactivepython.org/courselib/static/pythonds/SortSearch/TheSelectionSort.html\n",
    "\n",
    "https://www.geeksforgeeks.org/python-program-for-selection-sort/\n",
    "\n",
    "https://www.youtube.com/watch?v=mI3KgJy_d7Y\n",
    "\n",
    "http://codecry.com/python/selection-sort"
   ]
  },
  {
   "cell_type": "code",
   "execution_count": 88,
   "metadata": {
    "collapsed": true
   },
   "outputs": [],
   "source": [
    "#Define the selection sorting algorithm\n",
    "sstart = time.time()\n",
    "n = 10 # the function is to run 10 times\n",
    "def selsort(x):\n",
    "    for i in range (0, len(x)-1):\n",
    "        minpos = i\n",
    "        for j in range (i+1,len(x)):\n",
    "            if x [j] < x [minpos]:\n",
    "                minpos = j\n",
    "        if minpos != i:\n",
    "            x[i], x[minpos] = x[minpos], x[i]\n",
    "for _ in range(n):\n",
    "    array = np.random.randint(100, size=100)\n",
    "    selsort (array)\n",
    "send = time.time()\n",
    "sstart1 = time.time()\n",
    "for _ in range(n):\n",
    "    array1 = np.random.randint(100, size=500)\n",
    "    selsort (array1)\n",
    "send1 = time.time()\n",
    "sstart2 = time.time()\n",
    "for _ in range(n):\n",
    "    array2 = np.random.randint(100, size=1000)\n",
    "    selsort (array2)\n",
    "send2 = time.time()\n",
    "sstart3 = time.time()\n",
    "for _ in range(n):\n",
    "    array3 = np.random.randint(100, size=2000)\n",
    "    selsort (array3)\n",
    "send3 = time.time()\n",
    "sstart4 = time.time()\n",
    "for _ in range(n):\n",
    "    array4 = np.random.randint(100, size=5000)\n",
    "    selsort (array4)\n",
    "send4 = time.time()\n",
    "sstart5 = time.time()\n",
    "for _ in range(n):\n",
    "    array5 = np.random.randint(100, size=10000)\n",
    "    selsort (array5)\n",
    "send5 = time.time()\n"
   ]
  },
  {
   "cell_type": "markdown",
   "metadata": {},
   "source": [
    "## Insertion Sort\n",
    "With Insertion Sort, the algorithm goes through each element in a list, starting on the second element as there is nowhere left of the first element to compare to.  Each time it comes to an element, if it is lesser than the previous, it takes the element and inserts it in the correct position behind it.  By the time the algorithm reaches the end of the list, it inserts the final element in the correct position and the full list is now sorted.\n",
    "\n",
    "Insertion Sort has best case efficiency of n, worst case efficiency of n squared and average case of n squared, a space complexity of 1 and is a Stable algorithm.\n",
    "\n",
    "https://www.geeksforgeeks.org/insertion-sort/\n",
    "\n",
    "https://www.codesdope.com/blog/article/sorting-a-list-using-insertion-sort-in-python/\n",
    "\n",
    "https://tutorialedge.net/compsci/sorting/insertion-sort-in-python/\n",
    "\n",
    "https://www.youtube.com/watch?v=Nkw6Jg_Gi4w\n",
    "\n"
   ]
  },
  {
   "cell_type": "code",
   "execution_count": 89,
   "metadata": {
    "collapsed": true
   },
   "outputs": [],
   "source": [
    "#Define the insertion sorting algorithm\n",
    "istart = time.time()\n",
    "n = 10 # the function is to run 10 times\n",
    "def inssort(x):\n",
    "    for i in range (1, len(x)): # loop through the list starting at the second element.\n",
    "        currvalue = x[i]\n",
    "        temp = i\n",
    "        while temp>0 and x[temp-1]>currvalue:\n",
    "            x[temp] = x[temp-1]\n",
    "            temp = temp-1\n",
    "\n",
    "        x[temp] = currvalue\n",
    "for _ in range(n):\n",
    "    array = np.random.randint(100, size=100)\n",
    "    inssort (array)\n",
    "iend = time.time()\n",
    "istart1 = time.time()\n",
    "for _ in range(n):\n",
    "    array1 = np.random.randint(100, size=500)\n",
    "    inssort (array1)\n",
    "iend1 = time.time()\n",
    "istart2 = time.time()\n",
    "for _ in range(n):\n",
    "    array2 = np.random.randint(100, size=1000)\n",
    "    inssort (array2)\n",
    "iend2 = time.time()\n",
    "istart3 = time.time()\n",
    "for _ in range(n):\n",
    "    array3 = np.random.randint(100, size=2000)\n",
    "    inssort (array3)\n",
    "iend3 = time.time()\n",
    "istart4 = time.time()\n",
    "for _ in range(n):\n",
    "    array4 = np.random.randint(100, size=5000)\n",
    "    inssort (array4)\n",
    "iend4 = time.time()\n",
    "istart5 = time.time()\n",
    "for _ in range(n):\n",
    "    array5 = np.random.randint(100, size=10000)\n",
    "    inssort (array5)\n",
    "iend5 = time.time()"
   ]
  },
  {
   "cell_type": "markdown",
   "metadata": {},
   "source": [
    "## Quick Sort\n",
    "Quicksort is a recursive divide and conquer algorithm. Quicksort first divides a large array into two smaller sub-arrays: the low elements and the high elements. Quicksort can then recursively sort the sub-arrays.\n",
    "\n",
    "First step is to establish a pivot, this can be the first element or the last element or, more effectively, by getting the median of three elements.\n",
    "\n",
    "Then reorder the list so that elements less than the pivot come before the pivot and element greater than the array come after ithe pivot.  This is called partitioning and leaves the pivot in the correct position.\n",
    "\n",
    "Then recursively re run the process on both sides of the pivot until the full list is sorted.\n",
    "\n",
    "Quick Sort has best case efficiency of n log n, worst case efficiency of n squared and average case of n log n,  a space complexity of n and is not a Stable algorithm.\n",
    "\n",
    "https://en.wikipedia.org/wiki/Quicksort\n",
    "\n",
    "https://www.geeksforgeeks.org/quick-sort/\n",
    "\n",
    "https://www.youtube.com/watch?v=CB_NCoxzQnk"
   ]
  },
  {
   "cell_type": "code",
   "execution_count": 90,
   "metadata": {
    "collapsed": true
   },
   "outputs": [],
   "source": [
    "# Define the Quicksort Algorithm\n",
    "qstart = time.time()\n",
    "n = 10 # the function is to run 10 times\n",
    "def quisort(x):\n",
    "    quisort2(x, 0, len(x)-1)\n",
    "\n",
    "def quisort2(x, low, hi):\n",
    "    if low < hi:\n",
    "        p = partition (x, low, hi)\n",
    "        quisort2(x, low, p-1)\n",
    "        quisort2(x, p+1, hi)\n",
    "def get_pivot(x, low, hi):\n",
    "    mid = (hi + low)//2\n",
    "    pivot = hi\n",
    "    if x[low] < x[mid]:\n",
    "        if x[mid] < x[hi]:\n",
    "            pivot = mid\n",
    "    elif x[low] < x[hi]:\n",
    "        pivot = low\n",
    "    return pivot\n",
    "def partition (x, low, hi):\n",
    "    pivotIndex = get_pivot(x, low, hi)\n",
    "    pivotValue = x[pivotIndex]\n",
    "    x[pivotIndex], x[low] = x[low], x[pivotIndex]\n",
    "    border = low\n",
    "\n",
    "    for i in range(low, hi+1):\n",
    "        if x[i] < pivotValue:\n",
    "            border += 1\n",
    "            x[i], x[border] = x[border], x[i]\n",
    "    x[low], x[border] = x[border], x[low]\n",
    "\n",
    "    return (border)\n",
    "for _ in range(n):\n",
    "    array = np.random.randint(100, size=100)\n",
    "    quisort (array)\n",
    "qend = time.time()\n",
    "qstart1 = time.time()\n",
    "for _ in range(n):\n",
    "    array1 = np.random.randint(100, size=500)\n",
    "    quisort (array1)\n",
    "qend1 = time.time()\n",
    "qstart2 = time.time()\n",
    "for _ in range(n):\n",
    "    array2 = np.random.randint(100, size=1000)\n",
    "    quisort (array2)\n",
    "qend2 = time.time()\n",
    "qstart3 = time.time()\n",
    "for _ in range(n):\n",
    "    array3 = np.random.randint(100, size=2000)\n",
    "    quisort (array3)\n",
    "qend3 = time.time()\n",
    "qstart4 = time.time()\n",
    "for _ in range(n):\n",
    "    array4 = np.random.randint(100, size=5000)\n",
    "    quisort (array4)\n",
    "qend4 = time.time()\n",
    "qstart5 = time.time()\n",
    "for _ in range(n):\n",
    "    array5 = np.random.randint(100, size=10000)\n",
    "    quisort (array5)\n",
    "qend5 = time.time()\n"
   ]
  },
  {
   "cell_type": "markdown",
   "metadata": {},
   "source": [
    "## Counting Sort\n",
    "Counting Sort works best with lists that have a narrow range of elements.\n",
    "\n",
    "The algorithm first determines the greatest value in the array, say k, and initialises a range of 0 to k.\n",
    "\n",
    "Then it initialies a count of the range based on the number of instances of each element of the range in the array.\n",
    "\n",
    "Then each element in the count array is added to the next and this gives the maximum position in the sorted list for each element in the original list.  If there is more than one instance of an element value, it is placed in the position imediately before it in the sorted list.  This iterates for each element in the original list until the sorted list is complete.\n",
    "\n",
    "Counting Sort has best case efficiency of n+k, worst case efficiency of n+k and average case of n+k, a space complexity of n+k and is a Stable algorithm.\n",
    "\n",
    "https://en.wikipedia.org/wiki/Counting_sort\n",
    "\n",
    "https://www.geeksforgeeks.org/counting-sort/\n",
    "\n",
    "https://www.youtube.com/watch?v=OKd534EWcdk&t=11s\n"
   ]
  },
  {
   "cell_type": "code",
   "execution_count": 91,
   "metadata": {
    "collapsed": true
   },
   "outputs": [],
   "source": [
    "# Define the counting sort algorithm\n",
    "cstart = time.time()\n",
    "n = 10 # the function is to run 10 times\n",
    "def cousort(x):\n",
    "    mx = max(x)\n",
    "    nl = [0 for i in range(mx+1)]\n",
    "    rl = []\n",
    "    for i in x:\n",
    "        nl[i] += 1\n",
    "    for i in range(len(nl)):\n",
    "        if nl[i] != 0:\n",
    "            rl += [i for n in range(nl[i])]\n",
    "    return rl\n",
    "for _ in range(n):\n",
    "    array = np.random.randint(100, size=100)\n",
    "    cousort (array)\n",
    "cend = time.time()\n",
    "cstart1 = time.time()\n",
    "for _ in range(n):\n",
    "    array1 = np.random.randint(100, size=500)\n",
    "    cousort (array1)\n",
    "cend1 = time.time()\n",
    "cstart2 = time.time()\n",
    "for _ in range(n):\n",
    "    array2 = np.random.randint(100, size=1000)\n",
    "    cousort (array2)\n",
    "cend2 = time.time()\n",
    "cstart3 = time.time()\n",
    "for _ in range(n):\n",
    "    array3 = np.random.randint(100, size=2000)\n",
    "    cousort (array3)\n",
    "cend3 = time.time()\n",
    "cstart4 = time.time()\n",
    "for _ in range(n):\n",
    "    array4 = np.random.randint(100, size=5000)\n",
    "    cousort (array4)\n",
    "cend4 = time.time()\n",
    "cstart5 = time.time()\n",
    "for _ in range(n):\n",
    "    array5 = np.random.randint(100, size=10000)\n",
    "    cousort (array5)\n",
    "cend5 = time.time()"
   ]
  },
  {
   "cell_type": "code",
   "execution_count": 95,
   "metadata": {
    "collapsed": true
   },
   "outputs": [],
   "source": [
    "\n",
    "times = [[\"Size\", \"100\", \"500\", \"1,000\", \"2,000\", \"5,000\", \"10,000\"],[\"Bubble Sort\", (bend-bstart)/n, (bend1-bstart1)/n, (bend2-bstart2)/n, (bend3-bstart3)/n, (bend4-bstart4)/n, (bend5-bstart5)/n],[\"Selection Sort\", (send-sstart)/n, (send1-sstart1)/n, (send2-sstart2)/n, (send3-sstart3)/n, (send4-sstart4)/n, (send5-sstart5)/n],[\"Insertion Sort\", (iend-istart)/n, (iend1-istart1)/n, (iend2-istart2)/n, (iend3-istart3)/n, (iend4-istart4)/n, (iend5-istart5)/n],[\"Quick Sort\", (qend-qstart)/n, (qend1-qstart1)/n, (qend2-qstart2)/n, (qend3-qstart3)/n, (qend4-qstart4)/n, (qend5-qstart5)/n],[\"Counting Sort\", (cend-cstart)/n, (cend1-cstart1)/n, (cend2-cstart2)/n, (cend3-cstart3)/n, (cend4-cstart4)/n, (cend5-cstart5)/n]]"
   ]
  },
  {
   "cell_type": "code",
   "execution_count": 96,
   "metadata": {},
   "outputs": [
    {
     "name": "stdout",
     "output_type": "stream",
     "text": [
      "-------------------------------------------------------------------\n",
      "Size                100     500     1,000   2,000   5,000   10,000  \n",
      "-------------------------------------------------------------------\n",
      "Bubble Sort         0.002   0.066   0.304   1.086   8.444   30.030  \n",
      "Selection Sort      0.002   0.041   0.145   0.690   3.893   15.483  \n",
      "Insertion Sort      0.001   0.039   0.137   0.583   3.447   12.304  \n",
      "Quick Sort          0.000   0.003   0.006   0.013   0.045   0.129   \n",
      "Counting Sort       0.000   0.000   0.000   0.007   0.001   0.003   \n"
     ]
    }
   ],
   "source": [
    "dash ='-' * 67\n",
    "\n",
    "for i in range(len(times)):\n",
    "    if i == 0:\n",
    "        print(dash)\n",
    "        print('{:<20s}{:<8s}{:<8s}{:<8s}{:<8s}{:<8s}{:<8s}'.format(times[i][0],times[i][1],times[i][2],times[i][3],times[i][4],times[i][5],times[i][6]))\n",
    "        print(dash)\n",
    "    else:\n",
    "        print('{:<20s}{:<8.3f}{:<8.3f}{:<8.3f}{:<8.3f}{:<8.3f}{:<8.3f}'.format(times[i][0],times[i][1],times[i][2],times[i][3],times[i][4],times[i][5],times[i][6]))\n"
   ]
  },
  {
   "cell_type": "code",
   "execution_count": 97,
   "metadata": {},
   "outputs": [
    {
     "ename": "SyntaxError",
     "evalue": "invalid syntax (<ipython-input-97-180e93e1e96a>, line 4)",
     "output_type": "error",
     "traceback": [
      "\u001b[1;36m  File \u001b[1;32m\"<ipython-input-97-180e93e1e96a>\"\u001b[1;36m, line \u001b[1;32m4\u001b[0m\n\u001b[1;33m    ...              index=times[1:,0],    # 1st column as index\u001b[0m\n\u001b[1;37m                         ^\u001b[0m\n\u001b[1;31mSyntaxError\u001b[0m\u001b[1;31m:\u001b[0m invalid syntax\n"
     ]
    }
   ],
   "source": [
    "# to graph the results\n",
    "\n",
    "df = pd.DataFrame(data=times[1:,1:],    # values\n",
    "...              index=times[1:,0],    # 1st column as index\n",
    "...              columns=times[0,1:])  # 1st row as the column names\n",
    "print(df)\n",
    "\n",
    "\n",
    "\n",
    "\n",
    "\n",
    "\n"
   ]
  },
  {
   "cell_type": "code",
   "execution_count": null,
   "metadata": {
    "collapsed": true
   },
   "outputs": [],
   "source": []
  },
  {
   "cell_type": "code",
   "execution_count": null,
   "metadata": {
    "collapsed": true
   },
   "outputs": [],
   "source": []
  },
  {
   "cell_type": "code",
   "execution_count": null,
   "metadata": {
    "collapsed": true
   },
   "outputs": [],
   "source": []
  },
  {
   "cell_type": "code",
   "execution_count": null,
   "metadata": {
    "collapsed": true
   },
   "outputs": [],
   "source": []
  }
 ],
 "metadata": {
  "celltoolbar": "Tags",
  "kernelspec": {
   "display_name": "Python 3",
   "language": "python",
   "name": "python3"
  },
  "language_info": {
   "codemirror_mode": {
    "name": "ipython",
    "version": 3
   },
   "file_extension": ".py",
   "mimetype": "text/x-python",
   "name": "python",
   "nbconvert_exporter": "python",
   "pygments_lexer": "ipython3",
   "version": "3.6.3"
  }
 },
 "nbformat": 4,
 "nbformat_minor": 2
}
